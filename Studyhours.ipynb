{
 "cells": [
  {
   "cell_type": "code",
   "execution_count": null,
   "id": "6ff505af",
   "metadata": {},
   "outputs": [
    {
     "name": "stdout",
     "output_type": "stream",
     "text": [
      "Note: you may need to restart the kernel to use updated packages.\n",
      "Saved E:\\Data Science\\[Project 3] Learnsight\\study_hours_and_total_score.xlsx\n",
      "   weekly_self_study_hours  total_score\n",
      "0                     18.5         97.9\n",
      "1                     14.0         83.9\n",
      "2                     19.5        100.0\n",
      "3                     25.7        100.0\n",
      "4                     13.4         92.0\n",
      "Saved E:\\Data Science\\[Project 3] Learnsight\\study_hours_and_total_score.xlsx\n",
      "   weekly_self_study_hours  total_score\n",
      "0                     18.5         97.9\n",
      "1                     14.0         83.9\n",
      "2                     19.5        100.0\n",
      "3                     25.7        100.0\n",
      "4                     13.4         92.0\n"
     ]
    }
   ],
   "source": [
    "%pip install -q pandas openpyxl\n",
    "import pandas as pd\n",
    "from pathlib import Path\n",
    "csv_path = Path('student_performance.csv')\n",
    "if not csv_path.exists():\n",
    "    raise FileNotFoundError(f'{csv_path} not found in current folder')\n",
    "df = pd.read_csv(csv_path)\n",
    "expected = ['weekly_self_study_hours', 'total_score']\n",
    "lower_to_orig = {col.lower().strip(): col for col in df.columns}\n",
    "missing = [e for e in expected if e not in lower_to_orig]\n",
    "if missing:\n",
    "    print('Available columns in the CSV:')\n",
    "    print(list(df.columns))\n",
    "    raise KeyError(f'Missing expected columns after normalization: {missing}')\n",
    "selected = [lower_to_orig[e] for e in expected]\n",
    "df_subset = df[selected].copy()\n",
    "df_subset.columns = expected\n",
    "out = Path('study_hours_and_total_score.xlsx')\n",
    "\n",
    "df_subset.to_excel(out, index=False, engine='openpyxl')\n",
    "print(f'Saved {out.resolve()}')\n",
    "print(df_subset.head())"
   ]
  }
 ],
 "metadata": {
  "kernelspec": {
   "display_name": "RP_Env",
   "language": "python",
   "name": "python3"
  },
  "language_info": {
   "codemirror_mode": {
    "name": "ipython",
    "version": 3
   },
   "file_extension": ".py",
   "mimetype": "text/x-python",
   "name": "python",
   "nbconvert_exporter": "python",
   "pygments_lexer": "ipython3",
   "version": "3.13.9"
  }
 },
 "nbformat": 4,
 "nbformat_minor": 5
}
